{
 "cells": [
  {
   "cell_type": "markdown",
   "metadata": {},
   "source": [
    "## 多项式函数拟合实验\n",
    "旨在说明正常拟合，过拟合与欠拟合"
   ]
  },
  {
   "cell_type": "code",
   "execution_count": 62,
   "metadata": {},
   "outputs": [],
   "source": [
    "import torch\n",
    "import numpy as np\n",
    "import sys"
   ]
  },
  {
   "cell_type": "markdown",
   "metadata": {},
   "source": [
    "### 生成数据集"
   ]
  },
  {
   "cell_type": "code",
   "execution_count": 63,
   "metadata": {},
   "outputs": [],
   "source": [
    "n_train, n_test, true_w, true_b=100,100,[1.2,-3.4,5.6],5\n",
    "\n",
    "features=torch.randn((n_train+n_test,1))\n",
    "poly_features=torch.cat((features,torch.pow(features,2),torch.pow(features,3)),1)\n",
    "# poly_features将x,x^2,x^3拼接成每行三个数据，同时作为输入\n",
    "\n",
    "labels=(true_w[0]*poly_features[:,0]+true_w[1]*poly_features[:,1]+true_w[2]*poly_features[:,2]+true_b)\n",
    "labels+=torch.tensor(np.random.normal(0,0.01,size=labels.size()),dtype=torch.float) # 加噪"
   ]
  },
  {
   "cell_type": "markdown",
   "metadata": {},
   "source": [
    "### 定义loss,optim，训练模型"
   ]
  },
  {
   "cell_type": "code",
   "execution_count": 64,
   "metadata": {},
   "outputs": [],
   "source": [
    "num_epochs=100\n",
    "loss=torch.nn.MSELoss()\n",
    "\n",
    "# 定义模型\n",
    "def train(train_features,test_features,train_labels,test_labels):\n",
    "    batch_size=10\n",
    "    dataset=torch.utils.data.TensorDataset(train_features,train_labels)\n",
    "    train_iter=torch.utils.data.DataLoader(dataset,batch_size,shuffle=True)\n",
    "    net=torch.nn.Linear(train_features.shape[-1],1)\n",
    "    optimizer=torch.optim.SGD(net.parameters(),lr=0.01)\n",
    "\n",
    "    for epoch in range(num_epochs):\n",
    "        for X,y in train_iter:\n",
    "            l=loss(net(X),y.view(-1,1))\n",
    "            optimizer.zero_grad()\n",
    "            l.backward()\n",
    "            optimizer.step()\n",
    "\n",
    "    train_loss=loss(net(train_features),train_labels.view(-1,1)).item()\n",
    "    test_loss=loss(net(test_features),test_labels.view(-1,1)).item()\n",
    "\n",
    "    print('train loss', train_loss, '\\ntest loss', test_loss)\n",
    "    print('\\ntrue_w',true_w, '\\ntrue_b',true_b)\n",
    "    print('\\nout_w:',net.weight.data, '\\nout_b',net.bias.data)\n"
   ]
  },
  {
   "cell_type": "markdown",
   "metadata": {},
   "source": [
    "### 正常拟合\n",
    "训练集和测试集1:1"
   ]
  },
  {
   "cell_type": "code",
   "execution_count": 65,
   "metadata": {},
   "outputs": [
    {
     "name": "stdout",
     "output_type": "stream",
     "text": [
      "train loss 0.00011122498835902661 \n",
      "test loss 0.000156621536007151\n",
      "\n",
      "true_w [1.2, -3.4, 5.6] \n",
      "true_b 5\n",
      "\n",
      "out_w: tensor([[ 1.2110, -3.3986,  5.5975]]) \n",
      "out_b tensor([4.9974])\n"
     ]
    }
   ],
   "source": [
    "train_features=poly_features[:n_train,:]\n",
    "test_features=poly_features[n_train:,:]\n",
    "train_labels=labels[:n_train]\n",
    "test_labels=labels[n_train:]\n",
    "train(train_features,test_features,train_labels,test_labels)"
   ]
  },
  {
   "cell_type": "markdown",
   "metadata": {},
   "source": [
    "### 过拟合\n",
    "训练样本过少（此处仅提供一个batch的训练样本）"
   ]
  },
  {
   "cell_type": "code",
   "execution_count": 66,
   "metadata": {},
   "outputs": [
    {
     "name": "stdout",
     "output_type": "stream",
     "text": [
      "train loss 2.593590497970581 \n",
      "test loss 4.325687408447266\n",
      "\n",
      "true_w [1.2, -3.4, 5.6] \n",
      "true_b 5\n",
      "\n",
      "out_w: tensor([[ 1.9771, -2.3236,  5.2276]]) \n",
      "out_b tensor([2.6715])\n"
     ]
    }
   ],
   "source": [
    "train_features=poly_features[:10,:]\n",
    "test_features=poly_features[10:,:]\n",
    "train_labels=labels[:10]\n",
    "test_labels=labels[10:]\n",
    "train(train_features,test_features,train_labels,test_labels)"
   ]
  },
  {
   "cell_type": "markdown",
   "metadata": {},
   "source": [
    "### 欠拟合\n",
    "使用线性模型拟合非线性的多项式函数"
   ]
  },
  {
   "cell_type": "code",
   "execution_count": 67,
   "metadata": {},
   "outputs": [
    {
     "name": "stdout",
     "output_type": "stream",
     "text": [
      "train loss 103.31962585449219 \n",
      "test loss 285.002197265625\n",
      "\n",
      "true_w [1.2, -3.4, 5.6] \n",
      "true_b 5\n",
      "\n",
      "out_w: tensor([[17.4956]]) \n",
      "out_b tensor([-0.0892])\n"
     ]
    }
   ],
   "source": [
    "train_features=poly_features[:n_train,0].view(-1,1) #或者直接用features[...,:]\n",
    "# poly_features[100,0]size为[100](一维)，需要加view后size为[100,1]，才可与net运算\n",
    "test_features=poly_features[n_train:,0].view(-1,1)\n",
    "train_labels=labels[:n_train]\n",
    "test_labels=labels[n_train:]\n",
    "train(train_features,test_features,train_labels,test_labels)"
   ]
  }
 ],
 "metadata": {
  "kernelspec": {
   "display_name": "Python 3.9.12 ('py39')",
   "language": "python",
   "name": "python3"
  },
  "language_info": {
   "codemirror_mode": {
    "name": "ipython",
    "version": 3
   },
   "file_extension": ".py",
   "mimetype": "text/x-python",
   "name": "python",
   "nbconvert_exporter": "python",
   "pygments_lexer": "ipython3",
   "version": "3.9.12"
  },
  "orig_nbformat": 4,
  "vscode": {
   "interpreter": {
    "hash": "03e97d8b034f81ae3ec7b5c526ab0b2e6923d505f54ded4e4d00ccb0ab77f715"
   }
  }
 },
 "nbformat": 4,
 "nbformat_minor": 2
}
