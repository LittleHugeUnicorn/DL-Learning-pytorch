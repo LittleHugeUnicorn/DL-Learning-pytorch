{
 "cells": [
  {
   "cell_type": "markdown",
   "id": "5c173ca1",
   "metadata": {},
   "source": [
    "## 线性回归\n",
    "\n",
    "不使用torch的内置网络/loss/优化函数的实现方式。\n",
    "\n",
    "假设需要拟合的表达式为\n",
    "$$\n",
    "\t\t\t\ty = x_1 w_1 + x_2 w_2 + x_3 w_3+b\n",
    "$$\n"
   ]
  },
  {
   "cell_type": "code",
   "execution_count": 11,
   "id": "06a46db5",
   "metadata": {},
   "outputs": [],
   "source": [
    "import torch\n",
    "import numpy as np\n",
    "import random\n",
    "from matplotlib import pyplot as plt"
   ]
  },
  {
   "cell_type": "markdown",
   "id": "d9f925aa",
   "metadata": {},
   "source": [
    "### 随机生成数据集"
   ]
  },
  {
   "cell_type": "code",
   "execution_count": 12,
   "id": "98e0f7f4",
   "metadata": {},
   "outputs": [],
   "source": [
    "num_inputs=3\n",
    "num_examples=500\n",
    "real_w=[-6, 3.2, 10.5]  # w1,w2,w3真实值\n",
    "real_b=1.7  # b真实值\n",
    "\n",
    "# 生成随机输入，为500*3矩阵\n",
    "features=torch.randn(num_examples,num_inputs,dtype=torch.float32)\n",
    "\n",
    "# 根据真实值生成标签\n",
    "labels = real_w[0] * features[:,0] \n",
    "for i in range(1,num_inputs):\n",
    "    labels += real_w[i]*features[:,i]\n",
    "labels += real_b\n",
    "\n",
    "# 给标签加上噪声\n",
    "labels+=torch.tensor(np.random.normal(0,0.01,size=labels.size()),dtype=torch.float32)"
   ]
  },
  {
   "cell_type": "markdown",
   "id": "1cc5c90d",
   "metadata": {},
   "source": [
    "### 以batch形式读取数据"
   ]
  },
  {
   "cell_type": "code",
   "execution_count": 13,
   "id": "15e11227",
   "metadata": {},
   "outputs": [],
   "source": [
    "def data_iter(batch_size,features,labels):\n",
    "    num_examples=len(features)\n",
    "    \n",
    "    # 生成大小为num_examples的数值列表并打乱，做到顺序随机读取数据\n",
    "    index=list(range(num_examples)) \n",
    "    random.shuffle(index)\n",
    "    \n",
    "    for i in range(0, num_examples, batch_size):\n",
    "        j=torch.LongTensor(index[i:min(i+batch_size,num_examples)]) # 此处LongTensor相当于索引张量\n",
    "        \n",
    "        # 使用index_select(dim,index) 在dim维取序号为index的数据\n",
    "        # yield中断，保证按随即列表全部取完\n",
    "        yield features.index_select(0,j), labels.index_select(0,j)  "
   ]
  },
  {
   "cell_type": "markdown",
   "id": "a5c5001a",
   "metadata": {},
   "source": [
    "### 初始化模型参数（随机生成）"
   ]
  },
  {
   "cell_type": "code",
   "execution_count": 14,
   "id": "891a3778",
   "metadata": {},
   "outputs": [
    {
     "data": {
      "text/plain": [
       "tensor([0.], requires_grad=True)"
      ]
     },
     "execution_count": 14,
     "metadata": {},
     "output_type": "execute_result"
    }
   ],
   "source": [
    "w=torch.tensor(np.random.normal(0,0.01,(num_inputs,1)),dtype=torch.float32) # 生成3*1矩阵便于乘法\n",
    "b=torch.zeros(1,dtype=torch.float32)\n",
    "\n",
    "# 要求梯度追踪\n",
    "w.requires_grad_(requires_grad=True)\n",
    "b.requires_grad_(requires_grad=True)"
   ]
  },
  {
   "cell_type": "markdown",
   "id": "9c6a58b5",
   "metadata": {},
   "source": [
    "### 定义模型"
   ]
  },
  {
   "cell_type": "code",
   "execution_count": 15,
   "id": "57dc47c7",
   "metadata": {},
   "outputs": [],
   "source": [
    "def net(X,W,b):\n",
    "    return torch.mm(X , W)+ b"
   ]
  },
  {
   "cell_type": "markdown",
   "id": "70b3c1d8",
   "metadata": {},
   "source": [
    "### 定义Loss函数"
   ]
  },
  {
   "cell_type": "code",
   "execution_count": 16,
   "id": "571938f1",
   "metadata": {},
   "outputs": [],
   "source": [
    "def loss(y,real_y):\n",
    "    return (y-real_y.view(y.size()))**2/2"
   ]
  },
  {
   "cell_type": "markdown",
   "id": "f7c07cfa",
   "metadata": {},
   "source": [
    "### 定义SGD函数"
   ]
  },
  {
   "cell_type": "code",
   "execution_count": 17,
   "id": "85b88105",
   "metadata": {},
   "outputs": [],
   "source": [
    "def sgd(params, lr, batch_size):\n",
    "    for param in params:\n",
    "        param.data -= lr * param.grad / batch_size"
   ]
  },
  {
   "cell_type": "markdown",
   "id": "bf52baa2",
   "metadata": {},
   "source": [
    "### 训练模型"
   ]
  },
  {
   "cell_type": "code",
   "execution_count": 18,
   "id": "60d3c4eb",
   "metadata": {},
   "outputs": [
    {
     "name": "stdout",
     "output_type": "stream",
     "text": [
      "epoch 1, loss 4.090899\n",
      "epoch 2, loss 0.220768\n",
      "epoch 3, loss 0.011962\n",
      "epoch 4, loss 0.000689\n",
      "epoch 5, loss 0.000086\n",
      "epoch 6, loss 0.000053\n",
      "epoch 7, loss 0.000051\n",
      "\n",
      " [-6, 3.2, 10.5] \n",
      " tensor([[-5.9992],\n",
      "        [ 3.2002],\n",
      "        [10.5002]], requires_grad=True)\n",
      "1.7 \n",
      " tensor([1.7007], requires_grad=True)\n"
     ]
    }
   ],
   "source": [
    "num_epochs=7\n",
    "lr=0.03\n",
    "batch_size=10\n",
    "\n",
    "for epoch in range(num_epochs):\n",
    "    for X, Y in data_iter(batch_size, features, labels):\n",
    "        l=loss(net(X,w,b),Y).sum() # Y是数据集中的输出，与net结果相比较。使用sum函数求和转为标量，便于backward计算\n",
    "        l.backward() # 计算loss函数的梯度\n",
    "        sgd([w,b],lr,batch_size)\n",
    "        \n",
    "        #梯度清零\n",
    "        w.grad.data.zero_()\n",
    "        b.grad.data.zero_() \n",
    "        \n",
    "    epoch_l=loss(net(features,w,b),labels)\n",
    "    print('epoch %d, loss %f'%(epoch+1,epoch_l.mean().item())) #mean求均值，item将tensor转为数\n",
    "\n",
    "# 输出结果\n",
    "print('\\n', real_w,'\\n',w)\n",
    "print(real_b,'\\n',b)"
   ]
  }
 ],
 "metadata": {
  "kernelspec": {
   "display_name": "Python 3.8.13 (conda)",
   "language": "python",
   "name": "python3"
  },
  "language_info": {
   "codemirror_mode": {
    "name": "ipython",
    "version": 3
   },
   "file_extension": ".py",
   "mimetype": "text/x-python",
   "name": "python",
   "nbconvert_exporter": "python",
   "pygments_lexer": "ipython3",
   "version": "3.8.13"
  },
  "vscode": {
   "interpreter": {
    "hash": "65e2db1e87156106eff5c5ada43f989efbf0b9e0aae74ab5f2627dbbde98845b"
   }
  }
 },
 "nbformat": 4,
 "nbformat_minor": 5
}
