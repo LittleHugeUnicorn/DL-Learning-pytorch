{
 "cells": [
  {
   "cell_type": "code",
   "execution_count": 56,
   "metadata": {},
   "outputs": [],
   "source": [
    "import cv2   \n",
    "import numpy as np\n",
    "\n",
    "mask_min = np.array([100,100,100])    \n",
    "mask_max = np.array([130,255,255])               \n",
    "\n",
    "img=cv2.imread(\"验证码/1.jpg\")\n",
    "img=cv2.resize(img, None, fx=5,fy=5)\n",
    "\n",
    "hsv_img = cv2.cvtColor(img, cv2.COLOR_BGR2HSV)\n",
    "\n",
    "# 提取\n",
    "mask = cv2.inRange(hsv_img, mask_min, mask_max)\n",
    "res = cv2.bitwise_and(img, img, mask=mask)\n",
    "ret2, binary = cv2.threshold(mask, 240, 255, cv2.THRESH_BINARY)\n",
    "\n",
    "# 绘制轮廓\n",
    "contours, hirerarchy = cv2.findContours(\n",
    "    binary,\n",
    "    cv2.RETR_EXTERNAL,\n",
    "    \n",
    "    cv2.CHAIN_APPROX_SIMPLE)\n",
    "cv2.drawContours(res, contours, -1, (255,255,255), 3)\n",
    "\n",
    "# 轮廓外矩形\n",
    "for i in contours:\n",
    "    array= [cv2.contourArea(i) for i in contours]\n",
    "    maxctr = array.index(max(array)) \n",
    "    x, y, w, h = cv2.boundingRect(contours[maxctr])\n",
    "    res = cv2.rectangle(res, (x,y), (x+w,y+h),(255,0,0),2)\n",
    "\n",
    "cv2.imshow(\"1\",res)\n",
    "cv2.waitKey(0)\n",
    "cv2.destroyAllWindows()\n"
   ]
  }
 ],
 "metadata": {
  "kernelspec": {
   "display_name": "Python 3.9.12 ('py39')",
   "language": "python",
   "name": "python3"
  },
  "language_info": {
   "codemirror_mode": {
    "name": "ipython",
    "version": 3
   },
   "file_extension": ".py",
   "mimetype": "text/x-python",
   "name": "python",
   "nbconvert_exporter": "python",
   "pygments_lexer": "ipython3",
   "version": "3.9.12"
  },
  "orig_nbformat": 4,
  "vscode": {
   "interpreter": {
    "hash": "03e97d8b034f81ae3ec7b5c526ab0b2e6923d505f54ded4e4d00ccb0ab77f715"
   }
  }
 },
 "nbformat": 4,
 "nbformat_minor": 2
}
