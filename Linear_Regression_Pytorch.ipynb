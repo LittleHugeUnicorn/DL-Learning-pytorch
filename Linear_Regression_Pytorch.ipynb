{
 "cells": [
  {
   "cell_type": "markdown",
   "metadata": {},
   "source": [
    "## 线性回归的Pytorch实现"
   ]
  },
  {
   "cell_type": "code",
   "execution_count": 66,
   "metadata": {},
   "outputs": [],
   "source": [
    "import torch\n",
    "from torch import nn\n",
    "import numpy as np\n",
    "torch.manual_seed(1) #生成随机数种子\n",
    "\n",
    "torch.set_default_tensor_type('torch.FloatTensor')"
   ]
  },
  {
   "cell_type": "markdown",
   "metadata": {},
   "source": [
    "### 随机生成数据集"
   ]
  },
  {
   "cell_type": "code",
   "execution_count": 67,
   "metadata": {},
   "outputs": [],
   "source": [
    "num_inputs=3\n",
    "num_examples=1000\n",
    "real_w=[-6, 3.2, 10.5]  # w1,w2,w3真实值\n",
    "real_b=1.7  # b真实值\n",
    "\n",
    "# 生成随机输入，为1000*3矩阵\n",
    "features=torch.randn(num_examples,num_inputs,dtype=torch.float32)\n",
    "\n",
    "# 根据真实值生成标签\n",
    "labels = real_w[0] * features[:,0] \n",
    "for i in range(1,num_inputs):\n",
    "    labels += real_w[i]*features[:,i]\n",
    "labels += real_b\n",
    "\n",
    "# 给标签加上噪声\n",
    "labels+=torch.tensor(np.random.normal(0,0.01,size=labels.size()),dtype=torch.float32)"
   ]
  },
  {
   "cell_type": "markdown",
   "metadata": {},
   "source": [
    "### 读取数据"
   ]
  },
  {
   "cell_type": "code",
   "execution_count": 68,
   "metadata": {},
   "outputs": [],
   "source": [
    "import torch.utils.data as Data\n",
    "\n",
    "batch_size=10\n",
    "\n",
    "# 将训练数据的特征和标签打包成组合\n",
    "dataset=Data.TensorDataset(features,labels)\n",
    "\n",
    "# 随机按Batch读取（代替手写iter）shuffle=True表示随机顺序读取\n",
    "data_iter=Data.DataLoader(dataset,batch_size,shuffle=True)"
   ]
  },
  {
   "cell_type": "markdown",
   "metadata": {},
   "source": [
    "### 定义模型网络"
   ]
  },
  {
   "cell_type": "code",
   "execution_count": 69,
   "metadata": {},
   "outputs": [],
   "source": [
    "# 方法一，继承nn.Moudle自定义网络\n",
    "class LinearNet(nn.Module):\n",
    "    def __init__(self, n_feature):\n",
    "        super(LinearNet, self).__init__()\n",
    "        self.linear = nn.Linear(n_feature, 1)\n",
    "    # forward 定义前向传播\n",
    "    def forward(self, x):\n",
    "        y = self.linear(x)\n",
    "        return y\n",
    "    \n",
    "net = LinearNet(num_inputs)\n",
    "# print(net) 使用print可以打印出网络的结构"
   ]
  },
  {
   "cell_type": "code",
   "execution_count": 70,
   "metadata": {},
   "outputs": [],
   "source": [
    "# 方法2 利用nn.Sequential容器顺序加入层\n",
    "net=nn.Sequential(\n",
    "    nn.Linear(num_inputs,1) # 输入num_inputs个数据，输出1个数据\n",
    ")"
   ]
  },
  {
   "cell_type": "markdown",
   "metadata": {},
   "source": [
    "### 初始化模型参数"
   ]
  },
  {
   "cell_type": "code",
   "execution_count": 71,
   "metadata": {},
   "outputs": [
    {
     "data": {
      "text/plain": [
       "Parameter containing:\n",
       "tensor([0.], requires_grad=True)"
      ]
     },
     "execution_count": 71,
     "metadata": {},
     "output_type": "execute_result"
    }
   ],
   "source": [
    "from torch.nn import init\n",
    "\n",
    "init.normal_(net[0].weight, mean=0, std=0.01) # w初始化为随机采样均值0，标准差0.01的正态分布\n",
    "init.constant_(net[0].bias, val=0) # b初始化为0"
   ]
  },
  {
   "cell_type": "markdown",
   "metadata": {},
   "source": [
    "### 定义损失函数"
   ]
  },
  {
   "cell_type": "code",
   "execution_count": 72,
   "metadata": {},
   "outputs": [],
   "source": [
    "loss=nn.MSELoss()"
   ]
  },
  {
   "cell_type": "markdown",
   "metadata": {},
   "source": [
    "### 定义优化算法"
   ]
  },
  {
   "cell_type": "code",
   "execution_count": 73,
   "metadata": {},
   "outputs": [],
   "source": [
    "import torch.optim as optim\n",
    "\n",
    "optimizer=optim.SGD(net[0].parameters(),lr=0.03)"
   ]
  },
  {
   "cell_type": "markdown",
   "metadata": {},
   "source": [
    "### 训练模型"
   ]
  },
  {
   "cell_type": "code",
   "execution_count": 74,
   "metadata": {},
   "outputs": [
    {
     "name": "stdout",
     "output_type": "stream",
     "text": [
      "epoch 1, loss: 0.000227\n",
      "epoch 2, loss: 0.000018\n",
      "epoch 3, loss: 0.000053\n",
      "\n",
      " [-6, 3.2, 10.5] \n",
      " Parameter containing:\n",
      "tensor([[-5.9998,  3.2000, 10.5004]], requires_grad=True)\n",
      "1.7 \n",
      " Parameter containing:\n",
      "tensor([1.7000], requires_grad=True)\n"
     ]
    }
   ],
   "source": [
    "num_epochs=3\n",
    "for epoch in range(1,num_epochs+1):\n",
    "    for x,y in data_iter:\n",
    "        output=net(x)\n",
    "        l=loss(output, y.view(-1,1))  # y.view(-1,1)改变y的形状，1表示改为1列，-1表示根据其他维度（此处为行）推断本维度（列数）\n",
    "        optimizer.zero_grad() #梯度清零，等价于net.zero_grad()\n",
    "        l.backward()\n",
    "        optimizer.step() #迭代模型参数\n",
    "    print('epoch %d, loss: %f' % (epoch, l.item()))\n",
    "\n",
    "# 输出结果\n",
    "print('\\n', real_w,'\\n',net[0].weight)\n",
    "print(real_b,'\\n',net[0].bias)\n"
   ]
  }
 ],
 "metadata": {
  "kernelspec": {
   "display_name": "Python 3.9.12 (conda)",
   "language": "python",
   "name": "python3"
  },
  "language_info": {
   "codemirror_mode": {
    "name": "ipython",
    "version": 3
   },
   "file_extension": ".py",
   "mimetype": "text/x-python",
   "name": "python",
   "nbconvert_exporter": "python",
   "pygments_lexer": "ipython3",
   "version": "3.9.12"
  },
  "orig_nbformat": 4,
  "vscode": {
   "interpreter": {
    "hash": "8c633b88d87f1207e5564486a3d9793a8abd88bf1520ee7381a7fded0ae3a27d"
   }
  }
 },
 "nbformat": 4,
 "nbformat_minor": 2
}
